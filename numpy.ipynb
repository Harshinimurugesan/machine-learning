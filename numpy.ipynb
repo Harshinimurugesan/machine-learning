{
 "cells": [
  {
   "cell_type": "code",
   "execution_count": null,
   "id": "829b955f",
   "metadata": {},
   "outputs": [],
   "source": []
  },
  {
   "cell_type": "code",
   "execution_count": 1,
   "id": "14c9e4c3",
   "metadata": {},
   "outputs": [
    {
     "name": "stdout",
     "output_type": "stream",
     "text": [
      "Requirement already satisfied: numpy in c:\\users\\aedpu\\anaconda3\\envs\\machinelearning\\lib\\site-packages (1.25.2)\n",
      "Note: you may need to restart the kernel to use updated packages.\n"
     ]
    }
   ],
   "source": [
    "pip install numpy"
   ]
  },
  {
   "cell_type": "markdown",
   "id": "0adde509",
   "metadata": {},
   "source": [
    "# numpy version check\n"
   ]
  },
  {
   "cell_type": "code",
   "execution_count": 2,
   "id": "83ecefee",
   "metadata": {},
   "outputs": [],
   "source": [
    "import numpy as np"
   ]
  },
  {
   "cell_type": "code",
   "execution_count": 3,
   "id": "508e316e",
   "metadata": {},
   "outputs": [
    {
     "data": {
      "text/plain": [
       "'1.25.2'"
      ]
     },
     "execution_count": 3,
     "metadata": {},
     "output_type": "execute_result"
    }
   ],
   "source": [
    "np.version.version"
   ]
  },
  {
   "cell_type": "markdown",
   "id": "006861a9",
   "metadata": {},
   "source": [
    "# one dimentional array \n",
    "we will be using numpy.array to create different dimentional arrays \n",
    "3.1 creating 1d array\n",
    "\n",
    "1.syntax :numpy.array([values])\n",
    "\n",
    "2.values:elements in the array\n"
   ]
  },
  {
   "cell_type": "code",
   "execution_count": 4,
   "id": "7a7573c7",
   "metadata": {},
   "outputs": [
    {
     "name": "stdout",
     "output_type": "stream",
     "text": [
      "[1 2 3 4 5]\n"
     ]
    }
   ],
   "source": [
    "first_array =np.array([1,2,3,4,5])\n",
    "print(first_array)"
   ]
  },
  {
   "cell_type": "markdown",
   "id": "702cff79",
   "metadata": {},
   "source": [
    "# two dimentional array \n"
   ]
  },
  {
   "cell_type": "markdown",
   "id": "411bdbf8",
   "metadata": {},
   "source": [
    "# syntax:numpy.array([(values 1),(values 2)])"
   ]
  },
  {
   "cell_type": "code",
   "execution_count": 5,
   "id": "b746c7e9",
   "metadata": {},
   "outputs": [],
   "source": [
    "second_array=np.array([(1,2,3),(4,5,6)])"
   ]
  },
  {
   "cell_type": "code",
   "execution_count": 6,
   "id": "1da7aeb1",
   "metadata": {},
   "outputs": [
    {
     "name": "stdout",
     "output_type": "stream",
     "text": [
      "[[1 2 3]\n",
      " [4 5 6]]\n"
     ]
    }
   ],
   "source": [
    "print(second_array)"
   ]
  },
  {
   "cell_type": "markdown",
   "id": "a06abc2f",
   "metadata": {},
   "source": [
    "# three dimentional array"
   ]
  },
  {
   "cell_type": "markdown",
   "id": "ab74733c",
   "metadata": {},
   "source": [
    "# array  of zeroes\n",
    "syntax:numpy.zeros(shape,dtype=float,order='c')"
   ]
  },
  {
   "cell_type": "code",
   "execution_count": 7,
   "id": "7695c040",
   "metadata": {},
   "outputs": [
    {
     "name": "stdout",
     "output_type": "stream",
     "text": [
      "[[0. 0. 0.]\n",
      " [0. 0. 0.]\n",
      " [0. 0. 0.]\n",
      " [0. 0. 0.]]\n"
     ]
    }
   ],
   "source": [
    "zero_array =np.zeros((4,3))\n",
    "print(zero_array)"
   ]
  },
  {
   "cell_type": "markdown",
   "id": "c186566d",
   "metadata": {},
   "source": [
    "# array of ones \n"
   ]
  },
  {
   "cell_type": "code",
   "execution_count": 8,
   "id": "922162dc",
   "metadata": {},
   "outputs": [
    {
     "name": "stdout",
     "output_type": "stream",
     "text": [
      "[[1. 1.]\n",
      " [1. 1.]]\n"
     ]
    }
   ],
   "source": [
    " \n",
    "ones_array=np.ones((2,2))\n",
    "print(ones_array)"
   ]
  },
  {
   "cell_type": "markdown",
   "id": "c9b7d040",
   "metadata": {},
   "source": [
    "# linspace\n",
    "syntax:numpy.linspace(start,stop,num=50,endpoint=true,dtype=none,axis=0)\n",
    "\n",
    "start:starting value of sequence\n",
    "\n",
    "stop:end value of sequence\n",
    "\n",
    "num=:number of samples to generate\n",
    " \n",
    "endpoint=:in true stop at last sample ,otherwise its included default is true\n",
    "\n",
    "dtype(optional):desired datatype of array\n",
    "\n",
    "axis=(optional):axis along  which its stored\n",
    "\n"
   ]
  },
  {
   "cell_type": "code",
   "execution_count": 9,
   "id": "2d21cb9c",
   "metadata": {},
   "outputs": [
    {
     "name": "stdout",
     "output_type": "stream",
     "text": [
      "[ 0.          0.20408163  0.40816327  0.6122449   0.81632653  1.02040816\n",
      "  1.2244898   1.42857143  1.63265306  1.83673469  2.04081633  2.24489796\n",
      "  2.44897959  2.65306122  2.85714286  3.06122449  3.26530612  3.46938776\n",
      "  3.67346939  3.87755102  4.08163265  4.28571429  4.48979592  4.69387755\n",
      "  4.89795918  5.10204082  5.30612245  5.51020408  5.71428571  5.91836735\n",
      "  6.12244898  6.32653061  6.53061224  6.73469388  6.93877551  7.14285714\n",
      "  7.34693878  7.55102041  7.75510204  7.95918367  8.16326531  8.36734694\n",
      "  8.57142857  8.7755102   8.97959184  9.18367347  9.3877551   9.59183673\n",
      "  9.79591837 10.        ]\n"
     ]
    }
   ],
   "source": [
    "lin=np.linspace(0,10,50)\n",
    "print(lin)"
   ]
  },
  {
   "cell_type": "markdown",
   "id": "70a113d4",
   "metadata": {},
   "source": [
    "# array manipulations\n",
    "creating array"
   ]
  },
  {
   "cell_type": "code",
   "execution_count": 10,
   "id": "a6017c96",
   "metadata": {},
   "outputs": [
    {
     "name": "stdout",
     "output_type": "stream",
     "text": [
      "[1 3 5]\n"
     ]
    }
   ],
   "source": [
    "a=np.array([1,3,5])\n",
    "print(a)"
   ]
  },
  {
   "cell_type": "code",
   "execution_count": 11,
   "id": "a0cb2b77",
   "metadata": {},
   "outputs": [
    {
     "name": "stdout",
     "output_type": "stream",
     "text": [
      "[ 6  8 10]\n"
     ]
    }
   ],
   "source": [
    "b=np.array([6,8,10])\n",
    "print(b)"
   ]
  },
  {
   "cell_type": "markdown",
   "id": "72944fa6",
   "metadata": {},
   "source": [
    "# transpose\n",
    "#syntax:numpy.transpose(a,axes=none)\n"
   ]
  },
  {
   "cell_type": "code",
   "execution_count": 12,
   "id": "e1a632d9",
   "metadata": {},
   "outputs": [
    {
     "name": "stdout",
     "output_type": "stream",
     "text": [
      "[[11 22]\n",
      " [33 44]]\n"
     ]
    }
   ],
   "source": [
    "my_matrix=np.array([(11,22),(33,44)])\n",
    "print(my_matrix)"
   ]
  },
  {
   "cell_type": "code",
   "execution_count": 13,
   "id": "4c579cd1",
   "metadata": {},
   "outputs": [
    {
     "name": "stdout",
     "output_type": "stream",
     "text": [
      "[[11 33]\n",
      " [22 44]]\n"
     ]
    }
   ],
   "source": [
    "transpose=np.transpose(my_matrix)\n",
    "print(transpose)"
   ]
  },
  {
   "cell_type": "markdown",
   "id": "0f7fd4f4",
   "metadata": {},
   "source": [
    "# flattening array\n",
    "we use ndarray.ravel for flattening operation\n",
    "syntax:ndarray.ravel(order='c')\n",
    "order:which order the flattening\n"
   ]
  },
  {
   "cell_type": "code",
   "execution_count": 14,
   "id": "83ea0a37",
   "metadata": {},
   "outputs": [
    {
     "data": {
      "text/plain": [
       "array([11, 33, 22, 44])"
      ]
     },
     "execution_count": 14,
     "metadata": {},
     "output_type": "execute_result"
    }
   ],
   "source": [
    "transpose.ravel()"
   ]
  },
  {
   "cell_type": "markdown",
   "id": "69285a41",
   "metadata": {},
   "source": [
    "# reshaping the array \n",
    "\n",
    "syntax:ndarray.reshape(newshape)"
   ]
  },
  {
   "cell_type": "code",
   "execution_count": 15,
   "id": "70a51b1c",
   "metadata": {},
   "outputs": [
    {
     "name": "stdout",
     "output_type": "stream",
     "text": [
      "[1 2 3 4 5]\n"
     ]
    }
   ],
   "source": [
    "first_array.reshape(5,1)\n",
    "print(first_array)"
   ]
  },
  {
   "cell_type": "code",
   "execution_count": 16,
   "id": "e15c2302",
   "metadata": {},
   "outputs": [],
   "source": [
    "a=np.array([1,2,3,4,])"
   ]
  },
  {
   "cell_type": "code",
   "execution_count": 17,
   "id": "4b9cce60",
   "metadata": {},
   "outputs": [
    {
     "name": "stdout",
     "output_type": "stream",
     "text": [
      "[1 2 3 4]\n"
     ]
    }
   ],
   "source": [
    "print(a)"
   ]
  },
  {
   "cell_type": "code",
   "execution_count": 18,
   "id": "ab9367e4",
   "metadata": {},
   "outputs": [
    {
     "data": {
      "text/plain": [
       "array([[1, 2],\n",
       "       [3, 4]])"
      ]
     },
     "execution_count": 18,
     "metadata": {},
     "output_type": "execute_result"
    }
   ],
   "source": [
    "a.reshape(2,2)"
   ]
  },
  {
   "cell_type": "markdown",
   "id": "87267b7d",
   "metadata": {},
   "source": [
    "# array resize\n",
    "##synax:ndarray.resize((new_size))"
   ]
  },
  {
   "cell_type": "code",
   "execution_count": 19,
   "id": "509fe1f4",
   "metadata": {},
   "outputs": [],
   "source": [
    "a.resize((2,2))"
   ]
  },
  {
   "cell_type": "code",
   "execution_count": 20,
   "id": "9b08dc23",
   "metadata": {},
   "outputs": [
    {
     "data": {
      "text/plain": [
       "array([[1, 2],\n",
       "       [3, 4]])"
      ]
     },
     "execution_count": 20,
     "metadata": {},
     "output_type": "execute_result"
    }
   ],
   "source": [
    "a"
   ]
  },
  {
   "cell_type": "code",
   "execution_count": 21,
   "id": "370d6c7b",
   "metadata": {},
   "outputs": [
    {
     "name": "stdout",
     "output_type": "stream",
     "text": [
      "[[1 2]\n",
      " [3 4]]\n"
     ]
    }
   ],
   "source": [
    "print(a)"
   ]
  },
  {
   "cell_type": "code",
   "execution_count": null,
   "id": "491d7647",
   "metadata": {},
   "outputs": [],
   "source": []
  },
  {
   "cell_type": "code",
   "execution_count": null,
   "id": "eef43503",
   "metadata": {},
   "outputs": [],
   "source": []
  },
  {
   "cell_type": "code",
   "execution_count": null,
   "id": "55eb0c06",
   "metadata": {},
   "outputs": [],
   "source": []
  },
  {
   "cell_type": "code",
   "execution_count": null,
   "id": "5eb3afb4",
   "metadata": {},
   "outputs": [],
   "source": []
  },
  {
   "cell_type": "code",
   "execution_count": null,
   "id": "ce8abf5e",
   "metadata": {},
   "outputs": [],
   "source": []
  },
  {
   "cell_type": "code",
   "execution_count": null,
   "id": "2abe7475",
   "metadata": {},
   "outputs": [],
   "source": []
  }
 ],
 "metadata": {
  "kernelspec": {
   "display_name": "Python 3 (ipykernel)",
   "language": "python",
   "name": "python3"
  },
  "language_info": {
   "codemirror_mode": {
    "name": "ipython",
    "version": 3
   },
   "file_extension": ".py",
   "mimetype": "text/x-python",
   "name": "python",
   "nbconvert_exporter": "python",
   "pygments_lexer": "ipython3",
   "version": "3.9.17"
  }
 },
 "nbformat": 4,
 "nbformat_minor": 5
}

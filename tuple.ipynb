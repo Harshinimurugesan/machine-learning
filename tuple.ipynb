{
 "cells": [
  {
   "cell_type": "markdown",
   "id": "763a28fe",
   "metadata": {},
   "source": [
    "# creating tuple"
   ]
  },
  {
   "cell_type": "code",
   "execution_count": 1,
   "id": "6a5bda53",
   "metadata": {},
   "outputs": [
    {
     "data": {
      "text/plain": [
       "tuple"
      ]
     },
     "execution_count": 1,
     "metadata": {},
     "output_type": "execute_result"
    }
   ],
   "source": [
    "a=(\"buvi\",5,6,19,\"suji\",78)\n",
    "type(a)"
   ]
  },
  {
   "cell_type": "code",
   "execution_count": 2,
   "id": "e4a433a7",
   "metadata": {},
   "outputs": [
    {
     "data": {
      "text/plain": [
       "('buvi', 5, 6, 19, 'suji', 78)"
      ]
     },
     "execution_count": 2,
     "metadata": {},
     "output_type": "execute_result"
    }
   ],
   "source": [
    "a"
   ]
  },
  {
   "cell_type": "code",
   "execution_count": 3,
   "id": "76465b4b",
   "metadata": {},
   "outputs": [],
   "source": [
    "b=(3,45,5,90)\n"
   ]
  },
  {
   "cell_type": "code",
   "execution_count": 4,
   "id": "58a980c9",
   "metadata": {},
   "outputs": [],
   "source": [
    "c=a+b"
   ]
  },
  {
   "cell_type": "code",
   "execution_count": 5,
   "id": "a5601fb0",
   "metadata": {},
   "outputs": [
    {
     "data": {
      "text/plain": [
       "('buvi', 5, 6, 19, 'suji', 78, 3, 45, 5, 90)"
      ]
     },
     "execution_count": 5,
     "metadata": {},
     "output_type": "execute_result"
    }
   ],
   "source": [
    "c\n"
   ]
  },
  {
   "cell_type": "code",
   "execution_count": 6,
   "id": "31cdc36a",
   "metadata": {},
   "outputs": [
    {
     "data": {
      "text/plain": [
       "10"
      ]
     },
     "execution_count": 6,
     "metadata": {},
     "output_type": "execute_result"
    }
   ],
   "source": [
    "len(c)"
   ]
  },
  {
   "cell_type": "markdown",
   "id": "0fb2c4da",
   "metadata": {},
   "source": [
    "# slicing operations  #tuple_name[startingvalue:endingvalue:slicingvalue]"
   ]
  },
  {
   "cell_type": "code",
   "execution_count": 7,
   "id": "43b57190",
   "metadata": {},
   "outputs": [
    {
     "data": {
      "text/plain": [
       "('buvi', 5, 6, 19, 'suji', 78)"
      ]
     },
     "execution_count": 7,
     "metadata": {},
     "output_type": "execute_result"
    }
   ],
   "source": [
    "a\n"
   ]
  },
  {
   "cell_type": "code",
   "execution_count": 8,
   "id": "a51c8e20",
   "metadata": {},
   "outputs": [
    {
     "data": {
      "text/plain": [
       "(6, 19, 'suji', 78)"
      ]
     },
     "execution_count": 8,
     "metadata": {},
     "output_type": "execute_result"
    }
   ],
   "source": [
    "a[2:]"
   ]
  },
  {
   "cell_type": "code",
   "execution_count": 11,
   "id": "d5d973d3",
   "metadata": {},
   "outputs": [
    {
     "data": {
      "text/plain": [
       "('buvi', 5, 6)"
      ]
     },
     "execution_count": 11,
     "metadata": {},
     "output_type": "execute_result"
    }
   ],
   "source": [
    "a[0:3]"
   ]
  },
  {
   "cell_type": "code",
   "execution_count": 12,
   "id": "63eb152a",
   "metadata": {},
   "outputs": [
    {
     "data": {
      "text/plain": [
       "(6,)"
      ]
     },
     "execution_count": 12,
     "metadata": {},
     "output_type": "execute_result"
    }
   ],
   "source": [
    "a[2:3]"
   ]
  },
  {
   "cell_type": "code",
   "execution_count": 13,
   "id": "47ed972f",
   "metadata": {},
   "outputs": [
    {
     "data": {
      "text/plain": [
       "('buvi', 19)"
      ]
     },
     "execution_count": 13,
     "metadata": {},
     "output_type": "execute_result"
    }
   ],
   "source": [
    "a[::3]"
   ]
  },
  {
   "cell_type": "markdown",
   "id": "a89e5249",
   "metadata": {},
   "source": [
    "# counting\n",
    "count(element)"
   ]
  },
  {
   "cell_type": "code",
   "execution_count": 14,
   "id": "cc2ffb24",
   "metadata": {},
   "outputs": [
    {
     "data": {
      "text/plain": [
       "1"
      ]
     },
     "execution_count": 14,
     "metadata": {},
     "output_type": "execute_result"
    }
   ],
   "source": [
    "a.count(5)"
   ]
  },
  {
   "cell_type": "code",
   "execution_count": 15,
   "id": "e53c5da9",
   "metadata": {},
   "outputs": [
    {
     "data": {
      "text/plain": [
       "2"
      ]
     },
     "execution_count": 15,
     "metadata": {},
     "output_type": "execute_result"
    }
   ],
   "source": [
    "c.count(5)"
   ]
  },
  {
   "cell_type": "code",
   "execution_count": null,
   "id": "a9cf5eb1",
   "metadata": {},
   "outputs": [],
   "source": []
  }
 ],
 "metadata": {
  "kernelspec": {
   "display_name": "Python 3 (ipykernel)",
   "language": "python",
   "name": "python3"
  },
  "language_info": {
   "codemirror_mode": {
    "name": "ipython",
    "version": 3
   },
   "file_extension": ".py",
   "mimetype": "text/x-python",
   "name": "python",
   "nbconvert_exporter": "python",
   "pygments_lexer": "ipython3",
   "version": "3.9.17"
  }
 },
 "nbformat": 4,
 "nbformat_minor": 5
}
